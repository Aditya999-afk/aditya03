{
 "cells": [
  {
   "cell_type": "code",
   "execution_count": 2,
   "metadata": {},
   "outputs": [],
   "source": [
    "import pandas as pd\n",
    "import numpy as np"
   ]
  },
  {
   "cell_type": "code",
   "execution_count": 2,
   "metadata": {},
   "outputs": [],
   "source": []
  },
  {
   "cell_type": "code",
   "execution_count": 3,
   "metadata": {},
   "outputs": [],
   "source": [
    "customer = pd.read_excel(\"AdventureWorks_Database.xlsx\", sheet_name=\"Customers\")"
   ]
  },
  {
   "cell_type": "code",
   "execution_count": 4,
   "metadata": {},
   "outputs": [],
   "source": [
    "product = pd.read_excel(\"AdventureWorks_Database.xlsx\", sheet_name=\"Product\")"
   ]
  },
  {
   "cell_type": "code",
   "execution_count": 5,
   "metadata": {},
   "outputs": [],
   "source": [
    "teri = pd.read_excel(\"AdventureWorks_Database.xlsx\", sheet_name=\"Territory\")"
   ]
  },
  {
   "cell_type": "code",
   "execution_count": 6,
   "metadata": {},
   "outputs": [],
   "source": [
    "sales = pd.read_excel(\"AdventureWorks_Database.xlsx\", sheet_name=\"Sales\")"
   ]
  },
  {
   "cell_type": "code",
   "execution_count": 7,
   "metadata": {},
   "outputs": [
    {
     "data": {
      "text/plain": [
       "Index(['CustomerKey', 'FirstName', 'LastName', 'FullName', 'BirthDate',\n",
       "       'MaritalStatus', 'Gender', 'YearlyIncome', 'TotalChildren',\n",
       "       'NumberChildrenAtHome', 'Education', 'Occupation', 'HouseOwnerFlag',\n",
       "       'NumberCarsOwned', 'AddressLine1', 'DateFirstPurchase',\n",
       "       'CommuteDistance'],\n",
       "      dtype='object')"
      ]
     },
     "execution_count": 7,
     "metadata": {},
     "output_type": "execute_result"
    }
   ],
   "source": [
    "customer.columns"
   ]
  },
  {
   "cell_type": "code",
   "execution_count": 8,
   "metadata": {},
   "outputs": [],
   "source": [
    "customer.drop(columns=['FirstName', 'LastName','BirthDate',\n",
    "       'MaritalStatus', 'TotalChildren',\n",
    "       'NumberChildrenAtHome', 'Education',  'HouseOwnerFlag',\n",
    "       'NumberCarsOwned', 'AddressLine1', 'DateFirstPurchase',\n",
    "       'CommuteDistance'], inplace= True)"
   ]
  },
  {
   "cell_type": "code",
   "execution_count": 9,
   "metadata": {},
   "outputs": [
    {
     "data": {
      "text/plain": [
       "Index(['ProductKey', 'OrderDate', 'ShipDate', 'CustomerKey', 'PromotionKey',\n",
       "       'SalesTerritoryKey', 'SalesOrderNumber', 'SalesOrderLineNumber',\n",
       "       'OrderQuantity', 'UnitPrice', 'TotalProductCost', 'SalesAmount',\n",
       "       'TaxAmt'],\n",
       "      dtype='object')"
      ]
     },
     "execution_count": 9,
     "metadata": {},
     "output_type": "execute_result"
    }
   ],
   "source": [
    "sales.columns"
   ]
  },
  {
   "cell_type": "code",
   "execution_count": 10,
   "metadata": {},
   "outputs": [],
   "source": [
    "sales.drop(columns = [ 'PromotionKey', 'SalesOrderNumber', 'SalesOrderLineNumber'], inplace= True)"
   ]
  },
  {
   "cell_type": "code",
   "execution_count": 11,
   "metadata": {},
   "outputs": [
    {
     "data": {
      "text/plain": [
       "Index(['ProductKey', 'ProductName', 'SubCategory', 'Category', 'StandardCost',\n",
       "       'Color', 'ListPrice', 'DaysToManufacture', 'ProductLine', 'ModelName',\n",
       "       'Photo', 'ProductDescription', 'StartDate'],\n",
       "      dtype='object')"
      ]
     },
     "execution_count": 11,
     "metadata": {},
     "output_type": "execute_result"
    }
   ],
   "source": [
    "product.columns"
   ]
  },
  {
   "cell_type": "code",
   "execution_count": 12,
   "metadata": {},
   "outputs": [],
   "source": [
    "product.drop(columns=['StandardCost', 'Color', 'ListPrice', 'Photo', 'ProductDescription', 'StartDate'], inplace= True)"
   ]
  },
  {
   "cell_type": "code",
   "execution_count": 13,
   "metadata": {},
   "outputs": [
    {
     "data": {
      "text/plain": [
       "Index(['SalesTerritoryKey', 'Region', 'Country', 'Group', 'RegionImage'], dtype='object')"
      ]
     },
     "execution_count": 13,
     "metadata": {},
     "output_type": "execute_result"
    }
   ],
   "source": [
    "teri.columns"
   ]
  },
  {
   "cell_type": "code",
   "execution_count": 14,
   "metadata": {},
   "outputs": [],
   "source": [
    "teri.drop(columns=['RegionImage'], inplace= True)"
   ]
  },
  {
   "cell_type": "code",
   "execution_count": 15,
   "metadata": {},
   "outputs": [],
   "source": [
    "pd.options.display.max_rows = 10000"
   ]
  },
  {
   "cell_type": "code",
   "execution_count": 16,
   "metadata": {},
   "outputs": [
    {
     "data": {
      "text/plain": [
       "array([nan, 'Road Frames', 'Helmets', 'Socks', 'Caps', 'Jerseys',\n",
       "       'Mountain Frames', 'Road Bikes', 'Mountain Bikes', 'Forks',\n",
       "       'Headsets', 'Handlebars', 'Wheels', 'Shorts', 'Panniers', 'Locks',\n",
       "       'Pumps', 'Lights', 'Tights', 'Bib-Shorts', 'Gloves', 'Vests',\n",
       "       'Bottles and Cages', 'Tires and Tubes', 'Bike Racks', 'Cleaners',\n",
       "       'Fenders', 'Bike Stands', 'Hydration Packs', 'Touring Frames',\n",
       "       'Derailleurs', 'Saddles', 'Pedals', 'Brakes', 'Cranksets',\n",
       "       'Chains', 'Touring Bikes', 'Bottom Brackets'], dtype=object)"
      ]
     },
     "execution_count": 16,
     "metadata": {},
     "output_type": "execute_result"
    }
   ],
   "source": [
    "product.SubCategory.unique()"
   ]
  },
  {
   "cell_type": "code",
   "execution_count": 17,
   "metadata": {},
   "outputs": [
    {
     "data": {
      "text/plain": [
       "array([nan, 'Components', 'Accessories', 'Clothing', 'Bikes'],\n",
       "      dtype=object)"
      ]
     },
     "execution_count": 17,
     "metadata": {},
     "output_type": "execute_result"
    }
   ],
   "source": [
    "product.Category.unique()"
   ]
  },
  {
   "cell_type": "code",
   "execution_count": 18,
   "metadata": {},
   "outputs": [
    {
     "data": {
      "text/html": [
       "<div>\n",
       "<style scoped>\n",
       "    .dataframe tbody tr th:only-of-type {\n",
       "        vertical-align: middle;\n",
       "    }\n",
       "\n",
       "    .dataframe tbody tr th {\n",
       "        vertical-align: top;\n",
       "    }\n",
       "\n",
       "    .dataframe thead th {\n",
       "        text-align: right;\n",
       "    }\n",
       "</style>\n",
       "<table border=\"1\" class=\"dataframe\">\n",
       "  <thead>\n",
       "    <tr style=\"text-align: right;\">\n",
       "      <th></th>\n",
       "      <th>ProductKey</th>\n",
       "      <th>ProductName</th>\n",
       "      <th>SubCategory</th>\n",
       "      <th>Category</th>\n",
       "      <th>DaysToManufacture</th>\n",
       "      <th>ProductLine</th>\n",
       "      <th>ModelName</th>\n",
       "    </tr>\n",
       "  </thead>\n",
       "  <tbody>\n",
       "    <tr>\n",
       "      <th>0</th>\n",
       "      <td>1</td>\n",
       "      <td>Adjustable Race</td>\n",
       "      <td>NaN</td>\n",
       "      <td>NaN</td>\n",
       "      <td>0</td>\n",
       "      <td>NaN</td>\n",
       "      <td>NaN</td>\n",
       "    </tr>\n",
       "    <tr>\n",
       "      <th>1</th>\n",
       "      <td>2</td>\n",
       "      <td>Bearing Ball</td>\n",
       "      <td>NaN</td>\n",
       "      <td>NaN</td>\n",
       "      <td>0</td>\n",
       "      <td>NaN</td>\n",
       "      <td>NaN</td>\n",
       "    </tr>\n",
       "    <tr>\n",
       "      <th>2</th>\n",
       "      <td>3</td>\n",
       "      <td>BB Ball Bearing</td>\n",
       "      <td>NaN</td>\n",
       "      <td>NaN</td>\n",
       "      <td>1</td>\n",
       "      <td>NaN</td>\n",
       "      <td>NaN</td>\n",
       "    </tr>\n",
       "    <tr>\n",
       "      <th>3</th>\n",
       "      <td>4</td>\n",
       "      <td>Headset Ball Bearings</td>\n",
       "      <td>NaN</td>\n",
       "      <td>NaN</td>\n",
       "      <td>0</td>\n",
       "      <td>NaN</td>\n",
       "      <td>NaN</td>\n",
       "    </tr>\n",
       "    <tr>\n",
       "      <th>4</th>\n",
       "      <td>5</td>\n",
       "      <td>Blade</td>\n",
       "      <td>NaN</td>\n",
       "      <td>NaN</td>\n",
       "      <td>1</td>\n",
       "      <td>NaN</td>\n",
       "      <td>NaN</td>\n",
       "    </tr>\n",
       "  </tbody>\n",
       "</table>\n",
       "</div>"
      ],
      "text/plain": [
       "   ProductKey            ProductName SubCategory Category  DaysToManufacture  \\\n",
       "0           1        Adjustable Race         NaN      NaN                  0   \n",
       "1           2           Bearing Ball         NaN      NaN                  0   \n",
       "2           3        BB Ball Bearing         NaN      NaN                  1   \n",
       "3           4  Headset Ball Bearings         NaN      NaN                  0   \n",
       "4           5                  Blade         NaN      NaN                  1   \n",
       "\n",
       "  ProductLine ModelName  \n",
       "0         NaN       NaN  \n",
       "1         NaN       NaN  \n",
       "2         NaN       NaN  \n",
       "3         NaN       NaN  \n",
       "4         NaN       NaN  "
      ]
     },
     "execution_count": 18,
     "metadata": {},
     "output_type": "execute_result"
    }
   ],
   "source": [
    "product[product.SubCategory.isnull() | product.Category.isnull() | product.ProductLine.isnull()].head()"
   ]
  },
  {
   "cell_type": "code",
   "execution_count": 19,
   "metadata": {},
   "outputs": [
    {
     "data": {
      "text/plain": [
       "array(['Adjustable Race', 'Bearing Ball', 'BB Ball Bearing',\n",
       "       'Headset Ball Bearings', 'Blade', 'LL Crankarm', 'ML Crankarm',\n",
       "       'HL Crankarm', 'Chainring Bolts', 'Chainring Nut', 'Chainring',\n",
       "       'Crown Race', 'Chain Stays', 'Decal 1', 'Decal 2', 'Down Tube',\n",
       "       'Mountain End Caps', 'Road End Caps', 'Touring End Caps',\n",
       "       'Fork End', 'Freewheel', 'Flat Washer 1', 'Flat Washer 6',\n",
       "       'Flat Washer 2', 'Flat Washer 9', 'Flat Washer 4', 'Flat Washer 3',\n",
       "       'Flat Washer 8', 'Flat Washer 5', 'Flat Washer 7', 'Fork Crown',\n",
       "       'Front Derailleur Cage', 'Front Derailleur Linkage',\n",
       "       'Guide Pulley', 'LL Grip Tape', 'ML Grip Tape', 'HL Grip Tape',\n",
       "       'Thin-Jam Hex Nut 9', 'Thin-Jam Hex Nut 10', 'Thin-Jam Hex Nut 1',\n",
       "       'Thin-Jam Hex Nut 2', 'Thin-Jam Hex Nut 15', 'Thin-Jam Hex Nut 16',\n",
       "       'Thin-Jam Hex Nut 5', 'Thin-Jam Hex Nut 6', 'Thin-Jam Hex Nut 3',\n",
       "       'Thin-Jam Hex Nut 4', 'Thin-Jam Hex Nut 13', 'Thin-Jam Hex Nut 14',\n",
       "       'Thin-Jam Hex Nut 7', 'Thin-Jam Hex Nut 8', 'Thin-Jam Hex Nut 12',\n",
       "       'Thin-Jam Hex Nut 11', 'Hex Nut 5', 'Hex Nut 6', 'Hex Nut 16',\n",
       "       'Hex Nut 17', 'Hex Nut 7', 'Hex Nut 8', 'Hex Nut 9', 'Hex Nut 22',\n",
       "       'Hex Nut 23', 'Hex Nut 12', 'Hex Nut 13', 'Hex Nut 1',\n",
       "       'Hex Nut 10', 'Hex Nut 11', 'Hex Nut 2', 'Hex Nut 20',\n",
       "       'Hex Nut 21', 'Hex Nut 3', 'Hex Nut 14', 'Hex Nut 15', 'Hex Nut 4',\n",
       "       'Hex Nut 18', 'Hex Nut 19', 'Handlebar Tube', 'Head Tube',\n",
       "       'LL Hub', 'HL Hub', 'Keyed Washer', 'External Lock Washer 3',\n",
       "       'External Lock Washer 4', 'External Lock Washer 9',\n",
       "       'External Lock Washer 5', 'External Lock Washer 7',\n",
       "       'External Lock Washer 6', 'External Lock Washer 1',\n",
       "       'External Lock Washer 8', 'External Lock Washer 2',\n",
       "       'Internal Lock Washer 3', 'Internal Lock Washer 4',\n",
       "       'Internal Lock Washer 9', 'Internal Lock Washer 5',\n",
       "       'Internal Lock Washer 7', 'Internal Lock Washer 6',\n",
       "       'Internal Lock Washer 10', 'Internal Lock Washer 1',\n",
       "       'Internal Lock Washer 8', 'Internal Lock Washer 2',\n",
       "       'Thin-Jam Lock Nut 9', 'Thin-Jam Lock Nut 10',\n",
       "       'Thin-Jam Lock Nut 1', 'Thin-Jam Lock Nut 2',\n",
       "       'Thin-Jam Lock Nut 15', 'Thin-Jam Lock Nut 16',\n",
       "       'Thin-Jam Lock Nut 5', 'Thin-Jam Lock Nut 6',\n",
       "       'Thin-Jam Lock Nut 3', 'Thin-Jam Lock Nut 4',\n",
       "       'Thin-Jam Lock Nut 13', 'Thin-Jam Lock Nut 14',\n",
       "       'Thin-Jam Lock Nut 7', 'Thin-Jam Lock Nut 8',\n",
       "       'Thin-Jam Lock Nut 12', 'Thin-Jam Lock Nut 11', 'Lock Nut 5',\n",
       "       'Lock Nut 6', 'Lock Nut 16', 'Lock Nut 17', 'Lock Nut 7',\n",
       "       'Lock Nut 8', 'Lock Nut 9', 'Lock Nut 22', 'Lock Nut 23',\n",
       "       'Lock Nut 12', 'Lock Nut 13', 'Lock Nut 1', 'Lock Nut 10',\n",
       "       'Lock Nut 11', 'Lock Nut 2', 'Lock Nut 20', 'Lock Nut 21',\n",
       "       'Lock Nut 3', 'Lock Nut 14', 'Lock Nut 15', 'Lock Nut 4',\n",
       "       'Lock Nut 19', 'Lock Nut 18', 'Lock Ring', 'Lower Head Race',\n",
       "       'Lock Washer 4', 'Lock Washer 5', 'Lock Washer 10',\n",
       "       'Lock Washer 6', 'Lock Washer 13', 'Lock Washer 8',\n",
       "       'Lock Washer 1', 'Lock Washer 7', 'Lock Washer 12',\n",
       "       'Lock Washer 2', 'Lock Washer 9', 'Lock Washer 3',\n",
       "       'Lock Washer 11', 'Metal Angle', 'Metal Bar 1', 'Metal Bar 2',\n",
       "       'Metal Plate 2', 'Metal Plate 1', 'Metal Plate 3', 'Metal Sheet 2',\n",
       "       'Metal Sheet 3', 'Metal Sheet 7', 'Metal Sheet 4', 'Metal Sheet 5',\n",
       "       'Metal Sheet 6', 'Metal Sheet 1', 'Metal Tread Plate', 'LL Nipple',\n",
       "       'HL Nipple', 'Paint - Black', 'Paint - Red', 'Paint - Silver',\n",
       "       'Paint - Blue', 'Paint - Yellow', 'Pinch Bolt', 'Cup-Shaped Race',\n",
       "       'Cone-Shaped Race', 'Reflector', 'LL Mountain Rim',\n",
       "       'ML Mountain Rim', 'HL Mountain Rim', 'LL Road Rim', 'ML Road Rim',\n",
       "       'HL Road Rim', 'Touring Rim', 'LL Mountain Seat Assembly',\n",
       "       'ML Mountain Seat Assembly', 'HL Mountain Seat Assembly',\n",
       "       'LL Road Seat Assembly', 'ML Road Seat Assembly',\n",
       "       'HL Road Seat Assembly', 'LL Touring Seat Assembly',\n",
       "       'ML Touring Seat Assembly', 'HL Touring Seat Assembly',\n",
       "       'LL Spindle/Axle', 'HL Spindle/Axle', 'LL Shell', 'HL Shell',\n",
       "       'Spokes', 'Seat Lug', 'Stem', 'Seat Post', 'Steerer', 'Seat Stays',\n",
       "       'Seat Tube', 'Top Tube', 'Tension Pulley', 'Rear Derailleur Cage',\n",
       "       'LL Fork', 'ML Fork', 'HL Fork', 'LL Headset', 'ML Headset',\n",
       "       'HL Headset', 'Rear Derailleur', 'Front Derailleur',\n",
       "       'Front Brakes', 'LL Crankset', 'ML Crankset', 'HL Crankset',\n",
       "       'Chain', 'Rear Brakes', 'LL Bottom Bracket', 'ML Bottom Bracket',\n",
       "       'HL Bottom Bracket'], dtype=object)"
      ]
     },
     "execution_count": 19,
     "metadata": {},
     "output_type": "execute_result"
    }
   ],
   "source": [
    "product[product.SubCategory.isnull() | product.Category.isnull() | product.ProductLine.isnull()].ProductName.unique()"
   ]
  },
  {
   "cell_type": "code",
   "execution_count": 20,
   "metadata": {},
   "outputs": [],
   "source": [
    "null_product = product[product.SubCategory.isnull() | product.Category.isnull() | product.ProductLine.isnull()]"
   ]
  },
  {
   "cell_type": "code",
   "execution_count": 21,
   "metadata": {},
   "outputs": [
    {
     "data": {
      "text/plain": [
       "226"
      ]
     },
     "execution_count": 21,
     "metadata": {},
     "output_type": "execute_result"
    }
   ],
   "source": [
    "len(null_product)"
   ]
  },
  {
   "cell_type": "code",
   "execution_count": 25,
   "metadata": {},
   "outputs": [
    {
     "data": {
      "text/plain": [
       "606"
      ]
     },
     "execution_count": 25,
     "metadata": {},
     "output_type": "execute_result"
    }
   ],
   "source": [
    "len(product)"
   ]
  },
  {
   "cell_type": "code",
   "execution_count": 1,
   "metadata": {},
   "outputs": [
    {
     "ename": "NameError",
     "evalue": "name 'pd' is not defined",
     "output_type": "error",
     "traceback": [
      "\u001b[1;31m---------------------------------------------------------------------------\u001b[0m",
      "\u001b[1;31mNameError\u001b[0m                                 Traceback (most recent call last)",
      "Cell \u001b[1;32mIn[1], line 1\u001b[0m\n\u001b[1;32m----> 1\u001b[0m new_product \u001b[38;5;241m=\u001b[39m \u001b[43mpd\u001b[49m\u001b[38;5;241m.\u001b[39mread_excel(\u001b[38;5;124mr\u001b[39m\u001b[38;5;124m\"\u001b[39m\u001b[38;5;124mC:\u001b[39m\u001b[38;5;124m\\\u001b[39m\u001b[38;5;124mUsers\u001b[39m\u001b[38;5;124m\\\u001b[39m\u001b[38;5;124mDELL\u001b[39m\u001b[38;5;124m\\\u001b[39m\u001b[38;5;124mDesktop\u001b[39m\u001b[38;5;124m\\\u001b[39m\u001b[38;5;124mDatasets\u001b[39m\u001b[38;5;124m\\\u001b[39m\u001b[38;5;124mproduct_2.xlsx\u001b[39m\u001b[38;5;124m\"\u001b[39m)\n",
      "\u001b[1;31mNameError\u001b[0m: name 'pd' is not defined"
     ]
    }
   ],
   "source": [
    "new_product = pd.read_excel(r\"C:\\Users\\DELL\\Desktop\\Datasets\\product_2.xlsx\")"
   ]
  },
  {
   "cell_type": "code",
   "execution_count": 25,
   "metadata": {},
   "outputs": [
    {
     "data": {
      "text/html": [
       "<div>\n",
       "<style scoped>\n",
       "    .dataframe tbody tr th:only-of-type {\n",
       "        vertical-align: middle;\n",
       "    }\n",
       "\n",
       "    .dataframe tbody tr th {\n",
       "        vertical-align: top;\n",
       "    }\n",
       "\n",
       "    .dataframe thead th {\n",
       "        text-align: right;\n",
       "    }\n",
       "</style>\n",
       "<table border=\"1\" class=\"dataframe\">\n",
       "  <thead>\n",
       "    <tr style=\"text-align: right;\">\n",
       "      <th></th>\n",
       "      <th>ProductName</th>\n",
       "      <th>Category</th>\n",
       "      <th>Sub-Category</th>\n",
       "    </tr>\n",
       "  </thead>\n",
       "  <tbody>\n",
       "    <tr>\n",
       "      <th>0</th>\n",
       "      <td>Adjustable Race</td>\n",
       "      <td>Components</td>\n",
       "      <td>Headsets</td>\n",
       "    </tr>\n",
       "    <tr>\n",
       "      <th>1</th>\n",
       "      <td>Bearing Ball</td>\n",
       "      <td>Components</td>\n",
       "      <td>Headsets</td>\n",
       "    </tr>\n",
       "    <tr>\n",
       "      <th>2</th>\n",
       "      <td>BB Ball Bearing</td>\n",
       "      <td>Components</td>\n",
       "      <td>Headsets</td>\n",
       "    </tr>\n",
       "    <tr>\n",
       "      <th>3</th>\n",
       "      <td>Headset Ball Bearings</td>\n",
       "      <td>Components</td>\n",
       "      <td>Headsets</td>\n",
       "    </tr>\n",
       "    <tr>\n",
       "      <th>4</th>\n",
       "      <td>Blade</td>\n",
       "      <td>Components</td>\n",
       "      <td>Forks</td>\n",
       "    </tr>\n",
       "  </tbody>\n",
       "</table>\n",
       "</div>"
      ],
      "text/plain": [
       "             ProductName    Category Sub-Category\n",
       "0        Adjustable Race  Components     Headsets\n",
       "1           Bearing Ball  Components     Headsets\n",
       "2        BB Ball Bearing  Components     Headsets\n",
       "3  Headset Ball Bearings  Components     Headsets\n",
       "4                  Blade  Components        Forks"
      ]
     },
     "execution_count": 25,
     "metadata": {},
     "output_type": "execute_result"
    }
   ],
   "source": [
    "new_product.head()"
   ]
  },
  {
   "cell_type": "code",
   "execution_count": 26,
   "metadata": {},
   "outputs": [
    {
     "data": {
      "text/html": [
       "<div>\n",
       "<style scoped>\n",
       "    .dataframe tbody tr th:only-of-type {\n",
       "        vertical-align: middle;\n",
       "    }\n",
       "\n",
       "    .dataframe tbody tr th {\n",
       "        vertical-align: top;\n",
       "    }\n",
       "\n",
       "    .dataframe thead th {\n",
       "        text-align: right;\n",
       "    }\n",
       "</style>\n",
       "<table border=\"1\" class=\"dataframe\">\n",
       "  <thead>\n",
       "    <tr style=\"text-align: right;\">\n",
       "      <th></th>\n",
       "      <th>ProductKey</th>\n",
       "      <th>ProductName</th>\n",
       "      <th>SubCategory</th>\n",
       "      <th>Category</th>\n",
       "      <th>DaysToManufacture</th>\n",
       "      <th>ProductLine</th>\n",
       "      <th>ModelName</th>\n",
       "    </tr>\n",
       "  </thead>\n",
       "  <tbody>\n",
       "    <tr>\n",
       "      <th>0</th>\n",
       "      <td>1</td>\n",
       "      <td>Adjustable Race</td>\n",
       "      <td>NaN</td>\n",
       "      <td>NaN</td>\n",
       "      <td>0</td>\n",
       "      <td>NaN</td>\n",
       "      <td>NaN</td>\n",
       "    </tr>\n",
       "    <tr>\n",
       "      <th>1</th>\n",
       "      <td>2</td>\n",
       "      <td>Bearing Ball</td>\n",
       "      <td>NaN</td>\n",
       "      <td>NaN</td>\n",
       "      <td>0</td>\n",
       "      <td>NaN</td>\n",
       "      <td>NaN</td>\n",
       "    </tr>\n",
       "    <tr>\n",
       "      <th>2</th>\n",
       "      <td>3</td>\n",
       "      <td>BB Ball Bearing</td>\n",
       "      <td>NaN</td>\n",
       "      <td>NaN</td>\n",
       "      <td>1</td>\n",
       "      <td>NaN</td>\n",
       "      <td>NaN</td>\n",
       "    </tr>\n",
       "    <tr>\n",
       "      <th>3</th>\n",
       "      <td>4</td>\n",
       "      <td>Headset Ball Bearings</td>\n",
       "      <td>NaN</td>\n",
       "      <td>NaN</td>\n",
       "      <td>0</td>\n",
       "      <td>NaN</td>\n",
       "      <td>NaN</td>\n",
       "    </tr>\n",
       "    <tr>\n",
       "      <th>4</th>\n",
       "      <td>5</td>\n",
       "      <td>Blade</td>\n",
       "      <td>NaN</td>\n",
       "      <td>NaN</td>\n",
       "      <td>1</td>\n",
       "      <td>NaN</td>\n",
       "      <td>NaN</td>\n",
       "    </tr>\n",
       "  </tbody>\n",
       "</table>\n",
       "</div>"
      ],
      "text/plain": [
       "   ProductKey            ProductName SubCategory Category  DaysToManufacture  \\\n",
       "0           1        Adjustable Race         NaN      NaN                  0   \n",
       "1           2           Bearing Ball         NaN      NaN                  0   \n",
       "2           3        BB Ball Bearing         NaN      NaN                  1   \n",
       "3           4  Headset Ball Bearings         NaN      NaN                  0   \n",
       "4           5                  Blade         NaN      NaN                  1   \n",
       "\n",
       "  ProductLine ModelName  \n",
       "0         NaN       NaN  \n",
       "1         NaN       NaN  \n",
       "2         NaN       NaN  \n",
       "3         NaN       NaN  \n",
       "4         NaN       NaN  "
      ]
     },
     "execution_count": 26,
     "metadata": {},
     "output_type": "execute_result"
    }
   ],
   "source": [
    "null_product.head()"
   ]
  },
  {
   "cell_type": "code",
   "execution_count": 27,
   "metadata": {},
   "outputs": [],
   "source": [
    "merged_df = pd.merge(null_product, new_product, how= \"inner\",on = 'ProductName')"
   ]
  },
  {
   "cell_type": "code",
   "execution_count": 32,
   "metadata": {},
   "outputs": [
    {
     "data": {
      "text/html": [
       "<div>\n",
       "<style scoped>\n",
       "    .dataframe tbody tr th:only-of-type {\n",
       "        vertical-align: middle;\n",
       "    }\n",
       "\n",
       "    .dataframe tbody tr th {\n",
       "        vertical-align: top;\n",
       "    }\n",
       "\n",
       "    .dataframe thead th {\n",
       "        text-align: right;\n",
       "    }\n",
       "</style>\n",
       "<table border=\"1\" class=\"dataframe\">\n",
       "  <thead>\n",
       "    <tr style=\"text-align: right;\">\n",
       "      <th></th>\n",
       "      <th>ProductKey</th>\n",
       "      <th>ProductName</th>\n",
       "      <th>DaysToManufacture</th>\n",
       "      <th>ModelName</th>\n",
       "      <th>Category</th>\n",
       "      <th>SubCategory</th>\n",
       "    </tr>\n",
       "  </thead>\n",
       "  <tbody>\n",
       "    <tr>\n",
       "      <th>0</th>\n",
       "      <td>1</td>\n",
       "      <td>Adjustable Race</td>\n",
       "      <td>0</td>\n",
       "      <td>NaN</td>\n",
       "      <td>Components</td>\n",
       "      <td>Headsets</td>\n",
       "    </tr>\n",
       "    <tr>\n",
       "      <th>1</th>\n",
       "      <td>2</td>\n",
       "      <td>Bearing Ball</td>\n",
       "      <td>0</td>\n",
       "      <td>NaN</td>\n",
       "      <td>Components</td>\n",
       "      <td>Headsets</td>\n",
       "    </tr>\n",
       "    <tr>\n",
       "      <th>2</th>\n",
       "      <td>3</td>\n",
       "      <td>BB Ball Bearing</td>\n",
       "      <td>1</td>\n",
       "      <td>NaN</td>\n",
       "      <td>Components</td>\n",
       "      <td>Headsets</td>\n",
       "    </tr>\n",
       "    <tr>\n",
       "      <th>3</th>\n",
       "      <td>4</td>\n",
       "      <td>Headset Ball Bearings</td>\n",
       "      <td>0</td>\n",
       "      <td>NaN</td>\n",
       "      <td>Components</td>\n",
       "      <td>Headsets</td>\n",
       "    </tr>\n",
       "    <tr>\n",
       "      <th>4</th>\n",
       "      <td>5</td>\n",
       "      <td>Blade</td>\n",
       "      <td>1</td>\n",
       "      <td>NaN</td>\n",
       "      <td>Components</td>\n",
       "      <td>Forks</td>\n",
       "    </tr>\n",
       "  </tbody>\n",
       "</table>\n",
       "</div>"
      ],
      "text/plain": [
       "   ProductKey            ProductName  DaysToManufacture ModelName    Category  \\\n",
       "0           1        Adjustable Race                  0       NaN  Components   \n",
       "1           2           Bearing Ball                  0       NaN  Components   \n",
       "2           3        BB Ball Bearing                  1       NaN  Components   \n",
       "3           4  Headset Ball Bearings                  0       NaN  Components   \n",
       "4           5                  Blade                  1       NaN  Components   \n",
       "\n",
       "  SubCategory  \n",
       "0    Headsets  \n",
       "1    Headsets  \n",
       "2    Headsets  \n",
       "3    Headsets  \n",
       "4       Forks  "
      ]
     },
     "execution_count": 32,
     "metadata": {},
     "output_type": "execute_result"
    }
   ],
   "source": [
    "merged_df.head()"
   ]
  },
  {
   "cell_type": "code",
   "execution_count": 29,
   "metadata": {},
   "outputs": [],
   "source": [
    "merged_df.drop(columns = ['SubCategory', 'Category_x',\n",
    "       'ProductLine'], inplace= True)"
   ]
  },
  {
   "cell_type": "markdown",
   "metadata": {},
   "source": []
  },
  {
   "cell_type": "code",
   "execution_count": 31,
   "metadata": {},
   "outputs": [],
   "source": [
    "merged_df.columns = ['ProductKey', 'ProductName', 'DaysToManufacture', 'ModelName',\n",
    "       'Category', 'SubCategory']"
   ]
  },
  {
   "cell_type": "code",
   "execution_count": 33,
   "metadata": {},
   "outputs": [
    {
     "data": {
      "text/html": [
       "<div>\n",
       "<style scoped>\n",
       "    .dataframe tbody tr th:only-of-type {\n",
       "        vertical-align: middle;\n",
       "    }\n",
       "\n",
       "    .dataframe tbody tr th {\n",
       "        vertical-align: top;\n",
       "    }\n",
       "\n",
       "    .dataframe thead th {\n",
       "        text-align: right;\n",
       "    }\n",
       "</style>\n",
       "<table border=\"1\" class=\"dataframe\">\n",
       "  <thead>\n",
       "    <tr style=\"text-align: right;\">\n",
       "      <th></th>\n",
       "      <th>ProductKey</th>\n",
       "      <th>ProductName</th>\n",
       "      <th>DaysToManufacture</th>\n",
       "      <th>ModelName</th>\n",
       "      <th>Category</th>\n",
       "      <th>SubCategory</th>\n",
       "    </tr>\n",
       "  </thead>\n",
       "  <tbody>\n",
       "    <tr>\n",
       "      <th>0</th>\n",
       "      <td>1</td>\n",
       "      <td>Adjustable Race</td>\n",
       "      <td>0</td>\n",
       "      <td>NaN</td>\n",
       "      <td>Components</td>\n",
       "      <td>Headsets</td>\n",
       "    </tr>\n",
       "    <tr>\n",
       "      <th>1</th>\n",
       "      <td>2</td>\n",
       "      <td>Bearing Ball</td>\n",
       "      <td>0</td>\n",
       "      <td>NaN</td>\n",
       "      <td>Components</td>\n",
       "      <td>Headsets</td>\n",
       "    </tr>\n",
       "    <tr>\n",
       "      <th>2</th>\n",
       "      <td>3</td>\n",
       "      <td>BB Ball Bearing</td>\n",
       "      <td>1</td>\n",
       "      <td>NaN</td>\n",
       "      <td>Components</td>\n",
       "      <td>Headsets</td>\n",
       "    </tr>\n",
       "    <tr>\n",
       "      <th>3</th>\n",
       "      <td>4</td>\n",
       "      <td>Headset Ball Bearings</td>\n",
       "      <td>0</td>\n",
       "      <td>NaN</td>\n",
       "      <td>Components</td>\n",
       "      <td>Headsets</td>\n",
       "    </tr>\n",
       "    <tr>\n",
       "      <th>4</th>\n",
       "      <td>5</td>\n",
       "      <td>Blade</td>\n",
       "      <td>1</td>\n",
       "      <td>NaN</td>\n",
       "      <td>Components</td>\n",
       "      <td>Forks</td>\n",
       "    </tr>\n",
       "  </tbody>\n",
       "</table>\n",
       "</div>"
      ],
      "text/plain": [
       "   ProductKey            ProductName  DaysToManufacture ModelName    Category  \\\n",
       "0           1        Adjustable Race                  0       NaN  Components   \n",
       "1           2           Bearing Ball                  0       NaN  Components   \n",
       "2           3        BB Ball Bearing                  1       NaN  Components   \n",
       "3           4  Headset Ball Bearings                  0       NaN  Components   \n",
       "4           5                  Blade                  1       NaN  Components   \n",
       "\n",
       "  SubCategory  \n",
       "0    Headsets  \n",
       "1    Headsets  \n",
       "2    Headsets  \n",
       "3    Headsets  \n",
       "4       Forks  "
      ]
     },
     "execution_count": 33,
     "metadata": {},
     "output_type": "execute_result"
    }
   ],
   "source": [
    "merged_df.head()"
   ]
  },
  {
   "cell_type": "code",
   "execution_count": 39,
   "metadata": {},
   "outputs": [],
   "source": []
  },
  {
   "cell_type": "code",
   "execution_count": 34,
   "metadata": {},
   "outputs": [
    {
     "data": {
      "text/html": [
       "<div>\n",
       "<style scoped>\n",
       "    .dataframe tbody tr th:only-of-type {\n",
       "        vertical-align: middle;\n",
       "    }\n",
       "\n",
       "    .dataframe tbody tr th {\n",
       "        vertical-align: top;\n",
       "    }\n",
       "\n",
       "    .dataframe thead th {\n",
       "        text-align: right;\n",
       "    }\n",
       "</style>\n",
       "<table border=\"1\" class=\"dataframe\">\n",
       "  <thead>\n",
       "    <tr style=\"text-align: right;\">\n",
       "      <th></th>\n",
       "      <th>ProductKey</th>\n",
       "      <th>ProductName</th>\n",
       "      <th>SubCategory</th>\n",
       "      <th>Category</th>\n",
       "      <th>DaysToManufacture</th>\n",
       "      <th>ProductLine</th>\n",
       "      <th>ModelName</th>\n",
       "    </tr>\n",
       "  </thead>\n",
       "  <tbody>\n",
       "    <tr>\n",
       "      <th>0</th>\n",
       "      <td>1</td>\n",
       "      <td>Adjustable Race</td>\n",
       "      <td>NaN</td>\n",
       "      <td>NaN</td>\n",
       "      <td>0</td>\n",
       "      <td>NaN</td>\n",
       "      <td>NaN</td>\n",
       "    </tr>\n",
       "    <tr>\n",
       "      <th>1</th>\n",
       "      <td>2</td>\n",
       "      <td>Bearing Ball</td>\n",
       "      <td>NaN</td>\n",
       "      <td>NaN</td>\n",
       "      <td>0</td>\n",
       "      <td>NaN</td>\n",
       "      <td>NaN</td>\n",
       "    </tr>\n",
       "    <tr>\n",
       "      <th>2</th>\n",
       "      <td>3</td>\n",
       "      <td>BB Ball Bearing</td>\n",
       "      <td>NaN</td>\n",
       "      <td>NaN</td>\n",
       "      <td>1</td>\n",
       "      <td>NaN</td>\n",
       "      <td>NaN</td>\n",
       "    </tr>\n",
       "    <tr>\n",
       "      <th>3</th>\n",
       "      <td>4</td>\n",
       "      <td>Headset Ball Bearings</td>\n",
       "      <td>NaN</td>\n",
       "      <td>NaN</td>\n",
       "      <td>0</td>\n",
       "      <td>NaN</td>\n",
       "      <td>NaN</td>\n",
       "    </tr>\n",
       "    <tr>\n",
       "      <th>4</th>\n",
       "      <td>5</td>\n",
       "      <td>Blade</td>\n",
       "      <td>NaN</td>\n",
       "      <td>NaN</td>\n",
       "      <td>1</td>\n",
       "      <td>NaN</td>\n",
       "      <td>NaN</td>\n",
       "    </tr>\n",
       "  </tbody>\n",
       "</table>\n",
       "</div>"
      ],
      "text/plain": [
       "   ProductKey            ProductName SubCategory Category  DaysToManufacture  \\\n",
       "0           1        Adjustable Race         NaN      NaN                  0   \n",
       "1           2           Bearing Ball         NaN      NaN                  0   \n",
       "2           3        BB Ball Bearing         NaN      NaN                  1   \n",
       "3           4  Headset Ball Bearings         NaN      NaN                  0   \n",
       "4           5                  Blade         NaN      NaN                  1   \n",
       "\n",
       "  ProductLine ModelName  \n",
       "0         NaN       NaN  \n",
       "1         NaN       NaN  \n",
       "2         NaN       NaN  \n",
       "3         NaN       NaN  \n",
       "4         NaN       NaN  "
      ]
     },
     "execution_count": 34,
     "metadata": {},
     "output_type": "execute_result"
    }
   ],
   "source": [
    "product.head()"
   ]
  },
  {
   "cell_type": "code",
   "execution_count": 35,
   "metadata": {},
   "outputs": [],
   "source": [
    "product.drop(product.loc[product['SubCategory'].isnull() | product['Category'].isnull() | product['ProductLine'].isnull()].index, inplace=True)"
   ]
  },
  {
   "cell_type": "code",
   "execution_count": 36,
   "metadata": {},
   "outputs": [
    {
     "data": {
      "text/plain": [
       "380"
      ]
     },
     "execution_count": 36,
     "metadata": {},
     "output_type": "execute_result"
    }
   ],
   "source": [
    "len(product)"
   ]
  },
  {
   "cell_type": "code",
   "execution_count": 37,
   "metadata": {},
   "outputs": [],
   "source": [
    "product.drop(columns = ['ProductLine'], inplace= True)"
   ]
  },
  {
   "cell_type": "code",
   "execution_count": 39,
   "metadata": {},
   "outputs": [
    {
     "data": {
      "text/html": [
       "<div>\n",
       "<style scoped>\n",
       "    .dataframe tbody tr th:only-of-type {\n",
       "        vertical-align: middle;\n",
       "    }\n",
       "\n",
       "    .dataframe tbody tr th {\n",
       "        vertical-align: top;\n",
       "    }\n",
       "\n",
       "    .dataframe thead th {\n",
       "        text-align: right;\n",
       "    }\n",
       "</style>\n",
       "<table border=\"1\" class=\"dataframe\">\n",
       "  <thead>\n",
       "    <tr style=\"text-align: right;\">\n",
       "      <th></th>\n",
       "      <th>ProductKey</th>\n",
       "      <th>ProductName</th>\n",
       "      <th>SubCategory</th>\n",
       "      <th>Category</th>\n",
       "      <th>DaysToManufacture</th>\n",
       "      <th>ProductLine</th>\n",
       "      <th>ModelName</th>\n",
       "    </tr>\n",
       "  </thead>\n",
       "  <tbody>\n",
       "    <tr>\n",
       "      <th>0</th>\n",
       "      <td>1</td>\n",
       "      <td>Adjustable Race</td>\n",
       "      <td>NaN</td>\n",
       "      <td>NaN</td>\n",
       "      <td>0</td>\n",
       "      <td>NaN</td>\n",
       "      <td>NaN</td>\n",
       "    </tr>\n",
       "    <tr>\n",
       "      <th>1</th>\n",
       "      <td>2</td>\n",
       "      <td>Bearing Ball</td>\n",
       "      <td>NaN</td>\n",
       "      <td>NaN</td>\n",
       "      <td>0</td>\n",
       "      <td>NaN</td>\n",
       "      <td>NaN</td>\n",
       "    </tr>\n",
       "    <tr>\n",
       "      <th>2</th>\n",
       "      <td>3</td>\n",
       "      <td>BB Ball Bearing</td>\n",
       "      <td>NaN</td>\n",
       "      <td>NaN</td>\n",
       "      <td>1</td>\n",
       "      <td>NaN</td>\n",
       "      <td>NaN</td>\n",
       "    </tr>\n",
       "    <tr>\n",
       "      <th>3</th>\n",
       "      <td>4</td>\n",
       "      <td>Headset Ball Bearings</td>\n",
       "      <td>NaN</td>\n",
       "      <td>NaN</td>\n",
       "      <td>0</td>\n",
       "      <td>NaN</td>\n",
       "      <td>NaN</td>\n",
       "    </tr>\n",
       "    <tr>\n",
       "      <th>4</th>\n",
       "      <td>5</td>\n",
       "      <td>Blade</td>\n",
       "      <td>NaN</td>\n",
       "      <td>NaN</td>\n",
       "      <td>1</td>\n",
       "      <td>NaN</td>\n",
       "      <td>NaN</td>\n",
       "    </tr>\n",
       "  </tbody>\n",
       "</table>\n",
       "</div>"
      ],
      "text/plain": [
       "   ProductKey            ProductName SubCategory Category  DaysToManufacture  \\\n",
       "0           1        Adjustable Race         NaN      NaN                  0   \n",
       "1           2           Bearing Ball         NaN      NaN                  0   \n",
       "2           3        BB Ball Bearing         NaN      NaN                  1   \n",
       "3           4  Headset Ball Bearings         NaN      NaN                  0   \n",
       "4           5                  Blade         NaN      NaN                  1   \n",
       "\n",
       "  ProductLine ModelName  \n",
       "0         NaN       NaN  \n",
       "1         NaN       NaN  \n",
       "2         NaN       NaN  \n",
       "3         NaN       NaN  \n",
       "4         NaN       NaN  "
      ]
     },
     "execution_count": 39,
     "metadata": {},
     "output_type": "execute_result"
    }
   ],
   "source": [
    "null_product.head()"
   ]
  },
  {
   "cell_type": "code",
   "execution_count": 40,
   "metadata": {},
   "outputs": [],
   "source": [
    "updated_product = pd.concat([merged_df, product])"
   ]
  },
  {
   "cell_type": "code",
   "execution_count": 42,
   "metadata": {},
   "outputs": [
    {
     "data": {
      "text/plain": [
       "607"
      ]
     },
     "execution_count": 42,
     "metadata": {},
     "output_type": "execute_result"
    }
   ],
   "source": [
    "len(updated_product)"
   ]
  },
  {
   "cell_type": "code",
   "execution_count": 45,
   "metadata": {},
   "outputs": [
    {
     "data": {
      "text/html": [
       "<div>\n",
       "<style scoped>\n",
       "    .dataframe tbody tr th:only-of-type {\n",
       "        vertical-align: middle;\n",
       "    }\n",
       "\n",
       "    .dataframe tbody tr th {\n",
       "        vertical-align: top;\n",
       "    }\n",
       "\n",
       "    .dataframe thead th {\n",
       "        text-align: right;\n",
       "    }\n",
       "</style>\n",
       "<table border=\"1\" class=\"dataframe\">\n",
       "  <thead>\n",
       "    <tr style=\"text-align: right;\">\n",
       "      <th></th>\n",
       "      <th>ProductKey</th>\n",
       "      <th>ProductName</th>\n",
       "      <th>DaysToManufacture</th>\n",
       "      <th>ModelName</th>\n",
       "      <th>Category</th>\n",
       "      <th>SubCategory</th>\n",
       "    </tr>\n",
       "  </thead>\n",
       "  <tbody>\n",
       "    <tr>\n",
       "      <th>598</th>\n",
       "      <td>599</td>\n",
       "      <td>Mountain-500 Black, 48</td>\n",
       "      <td>4</td>\n",
       "      <td>Mountain-500</td>\n",
       "      <td>Bikes</td>\n",
       "      <td>Mountain Bikes</td>\n",
       "    </tr>\n",
       "    <tr>\n",
       "      <th>599</th>\n",
       "      <td>600</td>\n",
       "      <td>Mountain-500 Black, 52</td>\n",
       "      <td>4</td>\n",
       "      <td>Mountain-500</td>\n",
       "      <td>Bikes</td>\n",
       "      <td>Mountain Bikes</td>\n",
       "    </tr>\n",
       "    <tr>\n",
       "      <th>603</th>\n",
       "      <td>604</td>\n",
       "      <td>Road-750 Black, 44</td>\n",
       "      <td>4</td>\n",
       "      <td>Road-750</td>\n",
       "      <td>Bikes</td>\n",
       "      <td>Road Bikes</td>\n",
       "    </tr>\n",
       "    <tr>\n",
       "      <th>604</th>\n",
       "      <td>605</td>\n",
       "      <td>Road-750 Black, 48</td>\n",
       "      <td>4</td>\n",
       "      <td>Road-750</td>\n",
       "      <td>Bikes</td>\n",
       "      <td>Road Bikes</td>\n",
       "    </tr>\n",
       "    <tr>\n",
       "      <th>605</th>\n",
       "      <td>606</td>\n",
       "      <td>Road-750 Black, 52</td>\n",
       "      <td>4</td>\n",
       "      <td>Road-750</td>\n",
       "      <td>Bikes</td>\n",
       "      <td>Road Bikes</td>\n",
       "    </tr>\n",
       "  </tbody>\n",
       "</table>\n",
       "</div>"
      ],
      "text/plain": [
       "     ProductKey             ProductName  DaysToManufacture     ModelName  \\\n",
       "598         599  Mountain-500 Black, 48                  4  Mountain-500   \n",
       "599         600  Mountain-500 Black, 52                  4  Mountain-500   \n",
       "603         604      Road-750 Black, 44                  4      Road-750   \n",
       "604         605      Road-750 Black, 48                  4      Road-750   \n",
       "605         606      Road-750 Black, 52                  4      Road-750   \n",
       "\n",
       "    Category     SubCategory  \n",
       "598    Bikes  Mountain Bikes  \n",
       "599    Bikes  Mountain Bikes  \n",
       "603    Bikes      Road Bikes  \n",
       "604    Bikes      Road Bikes  \n",
       "605    Bikes      Road Bikes  "
      ]
     },
     "execution_count": 45,
     "metadata": {},
     "output_type": "execute_result"
    }
   ],
   "source": [
    "updated_product.tail()"
   ]
  }
 ],
 "metadata": {
  "kernelspec": {
   "display_name": "Python 3",
   "language": "python",
   "name": "python3"
  },
  "language_info": {
   "codemirror_mode": {
    "name": "ipython",
    "version": 3
   },
   "file_extension": ".py",
   "mimetype": "text/x-python",
   "name": "python",
   "nbconvert_exporter": "python",
   "pygments_lexer": "ipython3",
   "version": "3.12.4"
  }
 },
 "nbformat": 4,
 "nbformat_minor": 2
}
